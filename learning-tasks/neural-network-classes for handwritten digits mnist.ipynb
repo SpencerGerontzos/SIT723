{
 "cells": [
  {
   "cell_type": "markdown",
   "id": "35d13168",
   "metadata": {},
   "source": [
    "# Neural Network Class for handwritten digits"
   ]
  },
  {
   "cell_type": "code",
   "execution_count": 399,
   "id": "39aba21b",
   "metadata": {},
   "outputs": [],
   "source": [
    "import pandas as pd\n",
    "import numpy as np\n",
    "import math\n",
    "import random\n",
    "import scipy\n",
    "import pickle\n",
    "import os\n",
    "import gzip\n",
    "\n",
    "from matplotlib import pyplot as plt"
   ]
  },
  {
   "cell_type": "markdown",
   "id": "5ec0178e",
   "metadata": {},
   "source": [
    "## Reading test and training data?"
   ]
  },
  {
   "cell_type": "code",
   "execution_count": 405,
   "id": "5e6150f3",
   "metadata": {},
   "outputs": [],
   "source": [
    "def load_data1():\n",
    "    f = gzip.open('mnist.pkl.gz', 'rb')\n",
    "    training_data, validation_data, test_data = pickle.load(f, encoding=\"latin1\")\n",
    "    f.close()\n",
    "    return (training_data, validation_data, test_data)\n",
    "\n",
    "def load_data_wrapper():\n",
    "\n",
    "    tr_d, va_d, te_d = load_data1()\n",
    "    training_inputs = [np.reshape(x, (784, 1)) for x in tr_d[0]]\n",
    "    training_results = [vectorized_result(y) for y in tr_d[1]]\n",
    "    training_data = zip(training_inputs, training_results)\n",
    "    validation_inputs = [np.reshape(x, (784, 1)) for x in va_d[0]]\n",
    "    validation_data = zip(validation_inputs, va_d[1])\n",
    "    test_inputs = [np.reshape(x, (784, 1)) for x in te_d[0]]\n",
    "    test_data = zip(test_inputs, te_d[1])\n",
    "    return (training_data, validation_data, test_data)\n",
    "\n",
    "def vectorized_result(j):\n",
    "    e = np.zeros((10, 1))\n",
    "    e[j] = 1.0\n",
    "    return e"
   ]
  },
  {
   "cell_type": "code",
   "execution_count": 406,
   "id": "806326e6",
   "metadata": {},
   "outputs": [],
   "source": [
    "training, _, testing = load_data_wrapper()"
   ]
  },
  {
   "cell_type": "markdown",
   "id": "94bf4d30",
   "metadata": {},
   "source": [
    "# Creating a network class:\n",
    "\n",
    "input: object is a list. The number of items in the list represents the number of layers, where the first input is the amount of nodes in the input layer, where the items up to the final item are the the amount of nodes in each hidden layer, where finally we have the final item being the amount of nodes in the output layer.\n",
    "\n",
    "more formally, we have:\n",
    "\n",
    "object[0] := |nodes in the input layer|,\n",
    "object[1: len(object)] := |nodes in each hidden layer|,\n",
    "object[-1] := |nodes in the final layer|\n",
    "\n",
    "These biases and weights are initialised with a gaussian distribution of mean 0 and std 1"
   ]
  },
  {
   "cell_type": "code",
   "execution_count": 415,
   "id": "27f97305",
   "metadata": {},
   "outputs": [],
   "source": [
    "def sigmoid(x):\n",
    "    #return 1.0/(1.0+np.exp(-x))\n",
    "    return scipy.special.expit(x)\n",
    "\n",
    "\n",
    "class network1(object):\n",
    "    \n",
    "    def __init__(self, sizes):\n",
    "        \n",
    "        self.number_of_layers = len(sizes)\n",
    "        \n",
    "        self.sizes = sizes\n",
    "        \n",
    "        self.biases = [np.random.randn(y, 1) for y in sizes[1:]]\n",
    "        \n",
    "        self.weights = [np.random.randn(y, x) for x, y in zip(sizes[:-1], sizes[1:])]\n",
    "        \n",
    "        \n",
    "    def forward_prop(self, a):\n",
    "        for b, w in zip(self.biases, self.weights):\n",
    "            a = sigmoid(w.dot(a) + b)\n",
    "        return a\n",
    "    \n",
    "    \n",
    "    def evaluate(self, test_data):\n",
    "        \"\"\"Return the number of test inputs for which the neural\n",
    "        network outputs the correct result. Note that the neural\n",
    "        network's output is assumed to be the index of whichever\n",
    "        neuron in the final layer has the highest activation.\"\"\"\n",
    "        test_results = [(np.argmax(self.forward_prop(x)), y) for (x, y) in test_data]\n",
    "        \n",
    "        return sum(int(x == y) for (x, y) in test_results)\n",
    "    \n",
    "    #we note that it is difficult to quickly compute the gradient of this big function space.\n",
    "    #hence we can take a stochastic approach, by seperating the function into equal sizes of batches which we can train on\n",
    "    #assuming we have enough batches as a sample, we can say that approximatley the average value of the gradient of the cost function from each \n",
    "    #batch will be roughly equal to the average over the entire function space\n",
    "    \n",
    "\n",
    "    def stochastic_gradient_descent(self, training_data, epochs, batch_size, eta, test_data = None):\n",
    "        \n",
    "        if test_data:\n",
    "            n_test = len(test_data)\n",
    "        \n",
    "        n = len(training_data)\n",
    "        \n",
    "        #performing calcs for the number of epochs we assign (assumes the data is already randomly shuffled)\n",
    "        for i in range(epochs):\n",
    "            \n",
    "            \n",
    "            #randomly shuffle the input data\n",
    "            random.shuffle(training_data)\n",
    "            \n",
    "            #creating n batches of batch size: batch_size\n",
    "            training_batches = [training_data[k : k + batch_size] for k in range(0, n, batch_size)]\n",
    "            \n",
    "            for batch in training_batches:\n",
    "                #applying a step of gradient descent to each batch\n",
    "                self.update_batch(batch, eta)\n",
    "                \n",
    "            if test_data:\n",
    "                 print(\"Epoch {0}: {1} / {2}\".format(i, self.evaluate(test_data), n_test))\n",
    "            else:\n",
    "                print(\"Epoch {0} complete\".format(i))\n",
    "                \n",
    "            \n",
    "            \n",
    "    def update_batch(self, batch, eta):\n",
    "        \n",
    "        #pd of cost function wrt bias\n",
    "        n_b = [np.zeros(b.shape) for b in self.biases]\n",
    "        \n",
    "        #pd of cost function wrt weight\n",
    "        n_w = [np.zeros(w.shape) for w in self.weights]\n",
    "\n",
    "\n",
    "        for x,y in batch:\n",
    "            \n",
    "            dCdB, dCdW = self.back_propagation(x,y)\n",
    "\n",
    "            n_b = [nb + d_nb for nb, d_nb in zip(n_b, dCdB)]\n",
    "            n_w = [nw + d_nw for nw, d_nw in zip(n_w, dCdW)]\n",
    "        \n",
    "        self.weights = [w-(eta/len(batch))*nw for w, nw in zip(self.weights, n_w)]\n",
    "        \n",
    "        self.biases = [b-(eta/len(batch))*nb for b, nb in zip(self.biases, n_b)]\n",
    "    \n",
    "    \n",
    "    #x is the input layer and y is the output layer, which label it is supposed to be\n",
    "    def back_propagation(self, x, y):\n",
    "        #pd of cost function wrt bias\n",
    "        nb = [np.zeros(b.shape) for b in self.biases]\n",
    "        \n",
    "        #pd of cost function wrt weight\n",
    "        nw = [np.zeros(w.shape) for w in self.weights]\n",
    "        \n",
    "        #this is empty initially and stores the weighted sum with the bias added into it\n",
    "        z_lst = []\n",
    "        \n",
    "        #initial activation is the input layer\n",
    "        a = x\n",
    "    \n",
    "        #the list of activations, we note that the input layers activations are already set, hence why we can preset them\n",
    "        a_lst = [x]\n",
    "        \n",
    "        #computing the forward propagation\n",
    "        for b, w in zip(self.biases, self.weights):\n",
    "            #finding the weighted sum and storing it\n",
    "            z = w.dot(a) + b\n",
    "            z_lst.append(z)\n",
    "\n",
    "            #finding the next activation and storing it\n",
    "            a = sigmoid(z)\n",
    "            a_lst.append(a)\n",
    "            \n",
    "        \n",
    "        #error in output layer, hadamard product of pd of the cost function with the rate of change of the activation function (sigmoid)\n",
    "        delta = (a_lst[-1] - y) * (sigmoid(z_lst[-1])*(1.0-sigmoid(z_lst[-1])))\n",
    "        \n",
    "        nb[-1] = delta\n",
    "        nw[-1] = delta.dot(a_lst[-2].T)\n",
    "        \n",
    "        #backpropogate said error\n",
    "        for l in range(2, self.number_of_layers):\n",
    "            delta = ((self.weights[-l+1].T).dot(delta)) * (sigmoid(z_lst[-l])*(1-sigmoid(z_lst[-l])))\n",
    "            nb[-l] = delta\n",
    "            nw[-l] = delta.dot(a_lst[-l-1].T)\n",
    "            \n",
    "        #output\n",
    "        return (nb, nw)  "
   ]
  },
  {
   "cell_type": "code",
   "execution_count": 408,
   "id": "d7fdbdba",
   "metadata": {},
   "outputs": [
    {
     "name": "stdout",
     "output_type": "stream",
     "text": [
      "Epoch 0: 8974 / 10000\n",
      "Epoch 1: 9096 / 10000\n",
      "Epoch 2: 9138 / 10000\n",
      "Epoch 3: 9199 / 10000\n",
      "Epoch 4: 9242 / 10000\n",
      "Epoch 5: 9191 / 10000\n",
      "Epoch 6: 9306 / 10000\n",
      "Epoch 7: 9225 / 10000\n",
      "Epoch 8: 9247 / 10000\n",
      "Epoch 9: 9320 / 10000\n",
      "Epoch 10: 9306 / 10000\n",
      "Epoch 11: 9324 / 10000\n",
      "Epoch 12: 9306 / 10000\n",
      "Epoch 13: 9324 / 10000\n",
      "Epoch 14: 9356 / 10000\n",
      "Epoch 15: 9313 / 10000\n",
      "Epoch 16: 9363 / 10000\n",
      "Epoch 17: 9291 / 10000\n",
      "Epoch 18: 9319 / 10000\n",
      "Epoch 19: 9341 / 10000\n",
      "Epoch 20: 9357 / 10000\n",
      "Epoch 21: 9390 / 10000\n",
      "Epoch 22: 9339 / 10000\n",
      "Epoch 23: 9296 / 10000\n",
      "Epoch 24: 9304 / 10000\n",
      "Epoch 25: 9395 / 10000\n",
      "Epoch 26: 9353 / 10000\n",
      "Epoch 27: 9380 / 10000\n",
      "Epoch 28: 9362 / 10000\n",
      "Epoch 29: 9404 / 10000\n"
     ]
    }
   ],
   "source": [
    "net = network1([784,16, 16, 10])\n",
    "net.stochastic_gradient_descent(list(training), 30, 10, 3.0, test_data=list(testing))"
   ]
  },
  {
   "cell_type": "code",
   "execution_count": 414,
   "id": "70c239c4",
   "metadata": {},
   "outputs": [
    {
     "name": "stdout",
     "output_type": "stream",
     "text": [
      "prediction:  [5]\n",
      "label:  5\n"
     ]
    },
    {
     "data": {
      "image/png": "[encoded data removed]",
      "text/plain": [
       "<Figure size 640x480 with 1 Axes>"
      ]
     },
     "metadata": {},
     "output_type": "display_data"
    }
   ],
   "source": [
    "net.test_predictions(1340)"
   ]
  },
  {
   "cell_type": "code",
   "execution_count": null,
   "id": "6d68ca44",
   "metadata": {},
   "outputs": [],
   "source": []
  }
 ],
 "metadata": {
  "kernelspec": {
   "display_name": "Python 3 (ipykernel)",
   "language": "python",
   "name": "python3"
  },
  "language_info": {
   "codemirror_mode": {
    "name": "ipython",
    "version": 3
   },
   "file_extension": ".py",
   "mimetype": "text/x-python",
   "name": "python",
   "nbconvert_exporter": "python",
   "pygments_lexer": "ipython3",
   "version": "3.10.7"
  }
 },
 "nbformat": 4,
 "nbformat_minor": 5
}
